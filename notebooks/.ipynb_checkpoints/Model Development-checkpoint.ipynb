{
 "cells": [
  {
   "cell_type": "code",
   "execution_count": 4,
   "metadata": {},
   "outputs": [],
   "source": [
    "import pandas as pd\n",
    "\n",
    "from tensorflow.keras.models import Sequential\n",
    "from tensorflow.keras.layers import Dense, Dropout\n",
    "from tensorflow.keras.wrappers.scikit_learn import KerasClassifier\n",
    "from sklearn.metrics import mean_absolute_error, mean_squared_error, r2_score\n",
    "from sklearn.preprocessing import MinMaxScaler\n",
    "from sklearn.model_selection import train_test_split, GridSearchCV, KFold, cross_val_score\n",
    "from sklearn.preprocessing import LabelEncoder"
   ]
  },
  {
   "cell_type": "code",
   "execution_count": 2,
   "metadata": {},
   "outputs": [],
   "source": [
    "df = pd.read_csv('..//data/df_for_model_training.csv')"
   ]
  },
  {
   "cell_type": "code",
   "execution_count": 3,
   "metadata": {},
   "outputs": [
    {
     "data": {
      "text/html": [
       "<div>\n",
       "<style scoped>\n",
       "    .dataframe tbody tr th:only-of-type {\n",
       "        vertical-align: middle;\n",
       "    }\n",
       "\n",
       "    .dataframe tbody tr th {\n",
       "        vertical-align: top;\n",
       "    }\n",
       "\n",
       "    .dataframe thead th {\n",
       "        text-align: right;\n",
       "    }\n",
       "</style>\n",
       "<table border=\"1\" class=\"dataframe\">\n",
       "  <thead>\n",
       "    <tr style=\"text-align: right;\">\n",
       "      <th></th>\n",
       "      <th>Player</th>\n",
       "      <th>Pos</th>\n",
       "      <th>Age</th>\n",
       "      <th>Tm</th>\n",
       "      <th>G</th>\n",
       "      <th>GS</th>\n",
       "      <th>MP/G</th>\n",
       "      <th>FG/G</th>\n",
       "      <th>FGA/G</th>\n",
       "      <th>FG%/G</th>\n",
       "      <th>...</th>\n",
       "      <th>OWS</th>\n",
       "      <th>DWS</th>\n",
       "      <th>WS</th>\n",
       "      <th>WS/48</th>\n",
       "      <th>OBPM</th>\n",
       "      <th>DBPM</th>\n",
       "      <th>BPM</th>\n",
       "      <th>VORP</th>\n",
       "      <th>SEASON_END</th>\n",
       "      <th>NBA_ALL_TEAM</th>\n",
       "    </tr>\n",
       "  </thead>\n",
       "  <tbody>\n",
       "    <tr>\n",
       "      <td>0</td>\n",
       "      <td>Shareef Abdur-Rahim</td>\n",
       "      <td>SF</td>\n",
       "      <td>22</td>\n",
       "      <td>VAN</td>\n",
       "      <td>50</td>\n",
       "      <td>50</td>\n",
       "      <td>40.4</td>\n",
       "      <td>7.7</td>\n",
       "      <td>17.9</td>\n",
       "      <td>0.432</td>\n",
       "      <td>...</td>\n",
       "      <td>3.7</td>\n",
       "      <td>0.9</td>\n",
       "      <td>4.6</td>\n",
       "      <td>0.108</td>\n",
       "      <td>2.9</td>\n",
       "      <td>-0.9</td>\n",
       "      <td>2.0</td>\n",
       "      <td>2.1</td>\n",
       "      <td>1999</td>\n",
       "      <td>M</td>\n",
       "    </tr>\n",
       "    <tr>\n",
       "      <td>1</td>\n",
       "      <td>Ray Allen</td>\n",
       "      <td>SG</td>\n",
       "      <td>23</td>\n",
       "      <td>MIL</td>\n",
       "      <td>50</td>\n",
       "      <td>50</td>\n",
       "      <td>34.4</td>\n",
       "      <td>6.1</td>\n",
       "      <td>13.5</td>\n",
       "      <td>0.450</td>\n",
       "      <td>...</td>\n",
       "      <td>4.2</td>\n",
       "      <td>1.1</td>\n",
       "      <td>5.2</td>\n",
       "      <td>0.146</td>\n",
       "      <td>3.5</td>\n",
       "      <td>-1.0</td>\n",
       "      <td>2.4</td>\n",
       "      <td>1.9</td>\n",
       "      <td>1999</td>\n",
       "      <td>M</td>\n",
       "    </tr>\n",
       "    <tr>\n",
       "      <td>2</td>\n",
       "      <td>Darrell Armstrong</td>\n",
       "      <td>PG</td>\n",
       "      <td>30</td>\n",
       "      <td>ORL</td>\n",
       "      <td>50</td>\n",
       "      <td>15</td>\n",
       "      <td>30.0</td>\n",
       "      <td>4.6</td>\n",
       "      <td>10.4</td>\n",
       "      <td>0.441</td>\n",
       "      <td>...</td>\n",
       "      <td>3.8</td>\n",
       "      <td>2.7</td>\n",
       "      <td>6.4</td>\n",
       "      <td>0.205</td>\n",
       "      <td>4.2</td>\n",
       "      <td>2.4</td>\n",
       "      <td>6.7</td>\n",
       "      <td>3.3</td>\n",
       "      <td>1999</td>\n",
       "      <td>M</td>\n",
       "    </tr>\n",
       "    <tr>\n",
       "      <td>3</td>\n",
       "      <td>Charles Barkley</td>\n",
       "      <td>PF</td>\n",
       "      <td>35</td>\n",
       "      <td>HOU</td>\n",
       "      <td>42</td>\n",
       "      <td>40</td>\n",
       "      <td>36.3</td>\n",
       "      <td>5.7</td>\n",
       "      <td>12.0</td>\n",
       "      <td>0.478</td>\n",
       "      <td>...</td>\n",
       "      <td>4.8</td>\n",
       "      <td>2.0</td>\n",
       "      <td>6.8</td>\n",
       "      <td>0.215</td>\n",
       "      <td>4.3</td>\n",
       "      <td>0.3</td>\n",
       "      <td>4.5</td>\n",
       "      <td>2.5</td>\n",
       "      <td>1999</td>\n",
       "      <td>M</td>\n",
       "    </tr>\n",
       "    <tr>\n",
       "      <td>4</td>\n",
       "      <td>Mookie Blaylock</td>\n",
       "      <td>PG</td>\n",
       "      <td>31</td>\n",
       "      <td>ATL</td>\n",
       "      <td>48</td>\n",
       "      <td>48</td>\n",
       "      <td>36.7</td>\n",
       "      <td>5.1</td>\n",
       "      <td>13.6</td>\n",
       "      <td>0.379</td>\n",
       "      <td>...</td>\n",
       "      <td>1.5</td>\n",
       "      <td>3.2</td>\n",
       "      <td>4.7</td>\n",
       "      <td>0.127</td>\n",
       "      <td>2.1</td>\n",
       "      <td>1.9</td>\n",
       "      <td>4.0</td>\n",
       "      <td>2.7</td>\n",
       "      <td>1999</td>\n",
       "      <td>M</td>\n",
       "    </tr>\n",
       "    <tr>\n",
       "      <td>...</td>\n",
       "      <td>...</td>\n",
       "      <td>...</td>\n",
       "      <td>...</td>\n",
       "      <td>...</td>\n",
       "      <td>...</td>\n",
       "      <td>...</td>\n",
       "      <td>...</td>\n",
       "      <td>...</td>\n",
       "      <td>...</td>\n",
       "      <td>...</td>\n",
       "      <td>...</td>\n",
       "      <td>...</td>\n",
       "      <td>...</td>\n",
       "      <td>...</td>\n",
       "      <td>...</td>\n",
       "      <td>...</td>\n",
       "      <td>...</td>\n",
       "      <td>...</td>\n",
       "      <td>...</td>\n",
       "      <td>...</td>\n",
       "      <td>...</td>\n",
       "    </tr>\n",
       "    <tr>\n",
       "      <td>2016</td>\n",
       "      <td>Kemba Walker</td>\n",
       "      <td>PG</td>\n",
       "      <td>28</td>\n",
       "      <td>CHO</td>\n",
       "      <td>82</td>\n",
       "      <td>82</td>\n",
       "      <td>34.9</td>\n",
       "      <td>8.9</td>\n",
       "      <td>20.5</td>\n",
       "      <td>0.434</td>\n",
       "      <td>...</td>\n",
       "      <td>5.5</td>\n",
       "      <td>1.9</td>\n",
       "      <td>7.4</td>\n",
       "      <td>0.123</td>\n",
       "      <td>5.2</td>\n",
       "      <td>-1.0</td>\n",
       "      <td>4.2</td>\n",
       "      <td>4.4</td>\n",
       "      <td>2019</td>\n",
       "      <td>3rd</td>\n",
       "    </tr>\n",
       "    <tr>\n",
       "      <td>2017</td>\n",
       "      <td>Russell Westbrook</td>\n",
       "      <td>PG</td>\n",
       "      <td>30</td>\n",
       "      <td>OKC</td>\n",
       "      <td>73</td>\n",
       "      <td>73</td>\n",
       "      <td>36.0</td>\n",
       "      <td>8.6</td>\n",
       "      <td>20.2</td>\n",
       "      <td>0.428</td>\n",
       "      <td>...</td>\n",
       "      <td>1.8</td>\n",
       "      <td>5.0</td>\n",
       "      <td>6.8</td>\n",
       "      <td>0.124</td>\n",
       "      <td>2.8</td>\n",
       "      <td>2.4</td>\n",
       "      <td>5.2</td>\n",
       "      <td>4.7</td>\n",
       "      <td>2019</td>\n",
       "      <td>3rd</td>\n",
       "    </tr>\n",
       "    <tr>\n",
       "      <td>2018</td>\n",
       "      <td>Hassan Whiteside</td>\n",
       "      <td>C</td>\n",
       "      <td>29</td>\n",
       "      <td>MIA</td>\n",
       "      <td>72</td>\n",
       "      <td>53</td>\n",
       "      <td>23.3</td>\n",
       "      <td>5.4</td>\n",
       "      <td>9.4</td>\n",
       "      <td>0.571</td>\n",
       "      <td>...</td>\n",
       "      <td>2.3</td>\n",
       "      <td>4.0</td>\n",
       "      <td>6.3</td>\n",
       "      <td>0.180</td>\n",
       "      <td>1.1</td>\n",
       "      <td>1.2</td>\n",
       "      <td>2.3</td>\n",
       "      <td>1.8</td>\n",
       "      <td>2019</td>\n",
       "      <td>M</td>\n",
       "    </tr>\n",
       "    <tr>\n",
       "      <td>2019</td>\n",
       "      <td>Lou Williams</td>\n",
       "      <td>SG</td>\n",
       "      <td>32</td>\n",
       "      <td>LAC</td>\n",
       "      <td>75</td>\n",
       "      <td>1</td>\n",
       "      <td>26.6</td>\n",
       "      <td>6.5</td>\n",
       "      <td>15.2</td>\n",
       "      <td>0.425</td>\n",
       "      <td>...</td>\n",
       "      <td>3.9</td>\n",
       "      <td>1.2</td>\n",
       "      <td>5.1</td>\n",
       "      <td>0.123</td>\n",
       "      <td>4.3</td>\n",
       "      <td>-2.1</td>\n",
       "      <td>2.2</td>\n",
       "      <td>2.1</td>\n",
       "      <td>2019</td>\n",
       "      <td>M</td>\n",
       "    </tr>\n",
       "    <tr>\n",
       "      <td>2020</td>\n",
       "      <td>Thaddeus Young</td>\n",
       "      <td>PF</td>\n",
       "      <td>30</td>\n",
       "      <td>IND</td>\n",
       "      <td>81</td>\n",
       "      <td>81</td>\n",
       "      <td>30.7</td>\n",
       "      <td>5.5</td>\n",
       "      <td>10.4</td>\n",
       "      <td>0.527</td>\n",
       "      <td>...</td>\n",
       "      <td>3.0</td>\n",
       "      <td>3.9</td>\n",
       "      <td>6.9</td>\n",
       "      <td>0.133</td>\n",
       "      <td>0.4</td>\n",
       "      <td>1.1</td>\n",
       "      <td>1.5</td>\n",
       "      <td>2.2</td>\n",
       "      <td>2019</td>\n",
       "      <td>M</td>\n",
       "    </tr>\n",
       "  </tbody>\n",
       "</table>\n",
       "<p>2021 rows × 52 columns</p>\n",
       "</div>"
      ],
      "text/plain": [
       "                   Player Pos  Age   Tm   G  GS  MP/G  FG/G  FGA/G  FG%/G  \\\n",
       "0     Shareef Abdur-Rahim  SF   22  VAN  50  50  40.4   7.7   17.9  0.432   \n",
       "1               Ray Allen  SG   23  MIL  50  50  34.4   6.1   13.5  0.450   \n",
       "2       Darrell Armstrong  PG   30  ORL  50  15  30.0   4.6   10.4  0.441   \n",
       "3         Charles Barkley  PF   35  HOU  42  40  36.3   5.7   12.0  0.478   \n",
       "4         Mookie Blaylock  PG   31  ATL  48  48  36.7   5.1   13.6  0.379   \n",
       "...                   ...  ..  ...  ...  ..  ..   ...   ...    ...    ...   \n",
       "2016         Kemba Walker  PG   28  CHO  82  82  34.9   8.9   20.5  0.434   \n",
       "2017    Russell Westbrook  PG   30  OKC  73  73  36.0   8.6   20.2  0.428   \n",
       "2018     Hassan Whiteside   C   29  MIA  72  53  23.3   5.4    9.4  0.571   \n",
       "2019         Lou Williams  SG   32  LAC  75   1  26.6   6.5   15.2  0.425   \n",
       "2020       Thaddeus Young  PF   30  IND  81  81  30.7   5.5   10.4  0.527   \n",
       "\n",
       "      ...  OWS  DWS   WS  WS/48  OBPM  DBPM  BPM  VORP  SEASON_END  \\\n",
       "0     ...  3.7  0.9  4.6  0.108   2.9  -0.9  2.0   2.1        1999   \n",
       "1     ...  4.2  1.1  5.2  0.146   3.5  -1.0  2.4   1.9        1999   \n",
       "2     ...  3.8  2.7  6.4  0.205   4.2   2.4  6.7   3.3        1999   \n",
       "3     ...  4.8  2.0  6.8  0.215   4.3   0.3  4.5   2.5        1999   \n",
       "4     ...  1.5  3.2  4.7  0.127   2.1   1.9  4.0   2.7        1999   \n",
       "...   ...  ...  ...  ...    ...   ...   ...  ...   ...         ...   \n",
       "2016  ...  5.5  1.9  7.4  0.123   5.2  -1.0  4.2   4.4        2019   \n",
       "2017  ...  1.8  5.0  6.8  0.124   2.8   2.4  5.2   4.7        2019   \n",
       "2018  ...  2.3  4.0  6.3  0.180   1.1   1.2  2.3   1.8        2019   \n",
       "2019  ...  3.9  1.2  5.1  0.123   4.3  -2.1  2.2   2.1        2019   \n",
       "2020  ...  3.0  3.9  6.9  0.133   0.4   1.1  1.5   2.2        2019   \n",
       "\n",
       "      NBA_ALL_TEAM  \n",
       "0                M  \n",
       "1                M  \n",
       "2                M  \n",
       "3                M  \n",
       "4                M  \n",
       "...            ...  \n",
       "2016           3rd  \n",
       "2017           3rd  \n",
       "2018             M  \n",
       "2019             M  \n",
       "2020             M  \n",
       "\n",
       "[2021 rows x 52 columns]"
      ]
     },
     "execution_count": 3,
     "metadata": {},
     "output_type": "execute_result"
    }
   ],
   "source": [
    "df"
   ]
  },
  {
   "cell_type": "markdown",
   "metadata": {},
   "source": [
    "Determine some features to use"
   ]
  },
  {
   "cell_type": "code",
   "execution_count": 5,
   "metadata": {
    "scrolled": true
   },
   "outputs": [
    {
     "data": {
      "text/plain": [
       "Index(['Player', 'Pos', 'Age', 'Tm', 'G', 'GS', 'MP/G', 'FG/G', 'FGA/G',\n",
       "       'FG%/G', '3P/G', '3PA/G', '3P%/G', '2P/G', '2PA/G', '2P%/G', 'eFG%/G',\n",
       "       'FT/G', 'FTA/G', 'FT%/G', 'ORB/G', 'DRB/G', 'TRB/G', 'AST/G', 'STL/G',\n",
       "       'BLK/G', 'TOV/G', 'PF/G', 'PTS/G', 'MP', 'PER', 'TS%', '3PAr', 'FTr',\n",
       "       'ORB%', 'DRB%', 'TRB%', 'AST%', 'STL%', 'BLK%', 'TOV%', 'USG%', 'OWS',\n",
       "       'DWS', 'WS', 'WS/48', 'OBPM', 'DBPM', 'BPM', 'VORP', 'SEASON_END',\n",
       "       'NBA_ALL_TEAM'],\n",
       "      dtype='object')"
      ]
     },
     "execution_count": 5,
     "metadata": {},
     "output_type": "execute_result"
    }
   ],
   "source": [
    "df.columns"
   ]
  },
  {
   "cell_type": "code",
   "execution_count": 19,
   "metadata": {},
   "outputs": [],
   "source": [
    "features = ['MP/G', 'FG/G', 'FGA/G',\n",
    "           'FG%/G', '3P/G', '3PA/G', '3P%/G', '2P/G', '2PA/G', '2P%/G', 'eFG%/G',\n",
    "           'FT/G', 'FTA/G', 'FT%/G', 'ORB/G', 'DRB/G', 'TRB/G', 'AST/G', 'STL/G',\n",
    "           'BLK/G', 'TOV/G', 'PF/G', 'PTS/G', 'MP', 'PER', 'TS%', '3PAr', 'FTr',\n",
    "           'ORB%', 'DRB%', 'TRB%', 'AST%', 'STL%', 'BLK%', 'TOV%', 'USG%', 'OWS',\n",
    "           'DWS', 'WS', 'WS/48', 'OBPM', 'DBPM', 'BPM', 'VORP']"
   ]
  },
  {
   "cell_type": "code",
   "execution_count": 21,
   "metadata": {},
   "outputs": [],
   "source": [
    "X = df[features].values\n",
    "\n",
    "# label encoding\n",
    "y = df['NBA_ALL_TEAM']"
   ]
  },
  {
   "cell_type": "code",
   "execution_count": 22,
   "metadata": {},
   "outputs": [
    {
     "data": {
      "text/plain": [
       "0         M\n",
       "1         M\n",
       "2         M\n",
       "3         M\n",
       "4         M\n",
       "       ... \n",
       "2016    3rd\n",
       "2017    3rd\n",
       "2018      M\n",
       "2019      M\n",
       "2020      M\n",
       "Name: NBA_ALL_TEAM, Length: 2021, dtype: object"
      ]
     },
     "execution_count": 22,
     "metadata": {},
     "output_type": "execute_result"
    }
   ],
   "source": [
    "df['NBA_ALL_TEAM']"
   ]
  },
  {
   "cell_type": "code",
   "execution_count": 33,
   "metadata": {},
   "outputs": [],
   "source": [
    "text = pd.factorize(df.NBA_ALL_TEAM)[0]"
   ]
  },
  {
   "cell_type": "code",
   "execution_count": 44,
   "metadata": {},
   "outputs": [
    {
     "data": {
      "text/plain": [
       "104"
      ]
     },
     "execution_count": 44,
     "metadata": {},
     "output_type": "execute_result"
    }
   ],
   "source": [
    "list(text).count(3)"
   ]
  },
  {
   "cell_type": "code",
   "execution_count": 47,
   "metadata": {},
   "outputs": [
    {
     "data": {
      "text/plain": [
       "M      1708\n",
       "1st     105\n",
       "2nd     104\n",
       "3rd     104\n",
       "Name: NBA_ALL_TEAM, dtype: int64"
      ]
     },
     "execution_count": 47,
     "metadata": {},
     "output_type": "execute_result"
    }
   ],
   "source": [
    "df['NBA_ALL_TEAM'].value_counts()"
   ]
  },
  {
   "cell_type": "code",
   "execution_count": 50,
   "metadata": {},
   "outputs": [
    {
     "data": {
      "text/plain": [
       "30"
      ]
     },
     "execution_count": 50,
     "metadata": {},
     "output_type": "execute_result"
    }
   ],
   "source": [
    "2019-1989"
   ]
  },
  {
   "cell_type": "code",
   "execution_count": 51,
   "metadata": {},
   "outputs": [
    {
     "data": {
      "text/plain": [
       "150"
      ]
     },
     "execution_count": 51,
     "metadata": {},
     "output_type": "execute_result"
    }
   ],
   "source": [
    "30*5"
   ]
  },
  {
   "cell_type": "code",
   "execution_count": null,
   "metadata": {},
   "outputs": [],
   "source": []
  }
 ],
 "metadata": {
  "kernelspec": {
   "display_name": "Python 3",
   "language": "python",
   "name": "python3"
  },
  "language_info": {
   "codemirror_mode": {
    "name": "ipython",
    "version": 3
   },
   "file_extension": ".py",
   "mimetype": "text/x-python",
   "name": "python",
   "nbconvert_exporter": "python",
   "pygments_lexer": "ipython3",
   "version": "3.7.4"
  }
 },
 "nbformat": 4,
 "nbformat_minor": 2
}
