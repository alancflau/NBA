{
 "cells": [
  {
   "cell_type": "code",
   "execution_count": 1,
   "metadata": {},
   "outputs": [],
   "source": [
    "import pandas as pd\n",
    "pd.set_option('display.max_columns', 500)"
   ]
  },
  {
   "cell_type": "code",
   "execution_count": 2,
   "metadata": {},
   "outputs": [],
   "source": [
    "nba_df = pd.read_csv('..//data//nba_df.csv')"
   ]
  },
  {
   "cell_type": "code",
   "execution_count": 3,
   "metadata": {
    "scrolled": true
   },
   "outputs": [
    {
     "data": {
      "text/html": [
       "<div>\n",
       "<style scoped>\n",
       "    .dataframe tbody tr th:only-of-type {\n",
       "        vertical-align: middle;\n",
       "    }\n",
       "\n",
       "    .dataframe tbody tr th {\n",
       "        vertical-align: top;\n",
       "    }\n",
       "\n",
       "    .dataframe thead th {\n",
       "        text-align: right;\n",
       "    }\n",
       "</style>\n",
       "<table border=\"1\" class=\"dataframe\">\n",
       "  <thead>\n",
       "    <tr style=\"text-align: right;\">\n",
       "      <th></th>\n",
       "      <th>Player</th>\n",
       "      <th>Pos</th>\n",
       "      <th>Age</th>\n",
       "      <th>Tm</th>\n",
       "      <th>G</th>\n",
       "      <th>GS</th>\n",
       "      <th>MP_x</th>\n",
       "      <th>FG</th>\n",
       "      <th>FGA</th>\n",
       "      <th>FG%</th>\n",
       "      <th>3P</th>\n",
       "      <th>3PA</th>\n",
       "      <th>3P%</th>\n",
       "      <th>2P</th>\n",
       "      <th>2PA</th>\n",
       "      <th>2P%</th>\n",
       "      <th>eFG%</th>\n",
       "      <th>FT</th>\n",
       "      <th>FTA</th>\n",
       "      <th>FT%</th>\n",
       "      <th>ORB</th>\n",
       "      <th>DRB</th>\n",
       "      <th>TRB</th>\n",
       "      <th>AST</th>\n",
       "      <th>STL</th>\n",
       "      <th>BLK</th>\n",
       "      <th>TOV</th>\n",
       "      <th>PF</th>\n",
       "      <th>PTS</th>\n",
       "      <th>MP_y</th>\n",
       "      <th>PER</th>\n",
       "      <th>TS%</th>\n",
       "      <th>3PAr</th>\n",
       "      <th>FTr</th>\n",
       "      <th>ORB%</th>\n",
       "      <th>DRB%</th>\n",
       "      <th>TRB%</th>\n",
       "      <th>AST%</th>\n",
       "      <th>STL%</th>\n",
       "      <th>BLK%</th>\n",
       "      <th>TOV%</th>\n",
       "      <th>USG%</th>\n",
       "      <th></th>\n",
       "      <th>OWS</th>\n",
       "      <th>DWS</th>\n",
       "      <th>WS</th>\n",
       "      <th>WS/48</th>\n",
       "      <th>.1</th>\n",
       "      <th>OBPM</th>\n",
       "      <th>DBPM</th>\n",
       "      <th>BPM</th>\n",
       "      <th>VORP</th>\n",
       "      <th>Season_x</th>\n",
       "      <th>Players</th>\n",
       "      <th>Season_y</th>\n",
       "      <th>NBA_ALL_TEAM</th>\n",
       "      <th>Season_end</th>\n",
       "    </tr>\n",
       "  </thead>\n",
       "  <tbody>\n",
       "    <tr>\n",
       "      <td>0</td>\n",
       "      <td>Kareem Abdul-Jabbar</td>\n",
       "      <td>C</td>\n",
       "      <td>41</td>\n",
       "      <td>LAL</td>\n",
       "      <td>74</td>\n",
       "      <td>74</td>\n",
       "      <td>22.9</td>\n",
       "      <td>4.2</td>\n",
       "      <td>8.9</td>\n",
       "      <td>0.475</td>\n",
       "      <td>0.0</td>\n",
       "      <td>0.0</td>\n",
       "      <td>0.000</td>\n",
       "      <td>4.2</td>\n",
       "      <td>8.9</td>\n",
       "      <td>0.477</td>\n",
       "      <td>0.475</td>\n",
       "      <td>1.6</td>\n",
       "      <td>2.2</td>\n",
       "      <td>0.739</td>\n",
       "      <td>1.4</td>\n",
       "      <td>3.1</td>\n",
       "      <td>4.5</td>\n",
       "      <td>1.0</td>\n",
       "      <td>0.5</td>\n",
       "      <td>1.1</td>\n",
       "      <td>1.3</td>\n",
       "      <td>2.6</td>\n",
       "      <td>10.1</td>\n",
       "      <td>1695</td>\n",
       "      <td>12.9</td>\n",
       "      <td>0.511</td>\n",
       "      <td>0.005</td>\n",
       "      <td>0.250</td>\n",
       "      <td>7.3</td>\n",
       "      <td>14.2</td>\n",
       "      <td>11.0</td>\n",
       "      <td>6.1</td>\n",
       "      <td>1.1</td>\n",
       "      <td>2.9</td>\n",
       "      <td>11.5</td>\n",
       "      <td>20.1</td>\n",
       "      <td>NaN</td>\n",
       "      <td>0.9</td>\n",
       "      <td>2.0</td>\n",
       "      <td>2.9</td>\n",
       "      <td>0.082</td>\n",
       "      <td>NaN</td>\n",
       "      <td>-1.9</td>\n",
       "      <td>-0.2</td>\n",
       "      <td>-2.1</td>\n",
       "      <td>0.0</td>\n",
       "      <td>1989</td>\n",
       "      <td>NaN</td>\n",
       "      <td>NaN</td>\n",
       "      <td>NaN</td>\n",
       "      <td>NaN</td>\n",
       "    </tr>\n",
       "    <tr>\n",
       "      <td>1</td>\n",
       "      <td>Mark Acres</td>\n",
       "      <td>C</td>\n",
       "      <td>26</td>\n",
       "      <td>BOS</td>\n",
       "      <td>62</td>\n",
       "      <td>0</td>\n",
       "      <td>10.2</td>\n",
       "      <td>0.9</td>\n",
       "      <td>1.8</td>\n",
       "      <td>0.482</td>\n",
       "      <td>0.0</td>\n",
       "      <td>0.0</td>\n",
       "      <td>1.000</td>\n",
       "      <td>0.9</td>\n",
       "      <td>1.8</td>\n",
       "      <td>0.478</td>\n",
       "      <td>0.487</td>\n",
       "      <td>0.4</td>\n",
       "      <td>0.8</td>\n",
       "      <td>0.542</td>\n",
       "      <td>1.0</td>\n",
       "      <td>1.4</td>\n",
       "      <td>2.4</td>\n",
       "      <td>0.3</td>\n",
       "      <td>0.3</td>\n",
       "      <td>0.1</td>\n",
       "      <td>0.4</td>\n",
       "      <td>1.5</td>\n",
       "      <td>2.2</td>\n",
       "      <td>632</td>\n",
       "      <td>8.2</td>\n",
       "      <td>0.507</td>\n",
       "      <td>0.009</td>\n",
       "      <td>0.421</td>\n",
       "      <td>10.9</td>\n",
       "      <td>15.6</td>\n",
       "      <td>13.3</td>\n",
       "      <td>3.7</td>\n",
       "      <td>1.5</td>\n",
       "      <td>0.6</td>\n",
       "      <td>14.5</td>\n",
       "      <td>10.4</td>\n",
       "      <td>NaN</td>\n",
       "      <td>0.4</td>\n",
       "      <td>0.5</td>\n",
       "      <td>0.9</td>\n",
       "      <td>0.066</td>\n",
       "      <td>NaN</td>\n",
       "      <td>-3.0</td>\n",
       "      <td>-0.4</td>\n",
       "      <td>-3.4</td>\n",
       "      <td>-0.2</td>\n",
       "      <td>1989</td>\n",
       "      <td>NaN</td>\n",
       "      <td>NaN</td>\n",
       "      <td>NaN</td>\n",
       "      <td>NaN</td>\n",
       "    </tr>\n",
       "    <tr>\n",
       "      <td>2</td>\n",
       "      <td>Michael Adams</td>\n",
       "      <td>PG</td>\n",
       "      <td>26</td>\n",
       "      <td>DEN</td>\n",
       "      <td>77</td>\n",
       "      <td>77</td>\n",
       "      <td>36.2</td>\n",
       "      <td>6.1</td>\n",
       "      <td>14.1</td>\n",
       "      <td>0.433</td>\n",
       "      <td>2.2</td>\n",
       "      <td>6.1</td>\n",
       "      <td>0.356</td>\n",
       "      <td>3.9</td>\n",
       "      <td>8.0</td>\n",
       "      <td>0.490</td>\n",
       "      <td>0.509</td>\n",
       "      <td>4.2</td>\n",
       "      <td>5.1</td>\n",
       "      <td>0.819</td>\n",
       "      <td>0.9</td>\n",
       "      <td>2.8</td>\n",
       "      <td>3.7</td>\n",
       "      <td>6.4</td>\n",
       "      <td>2.2</td>\n",
       "      <td>0.1</td>\n",
       "      <td>2.3</td>\n",
       "      <td>1.9</td>\n",
       "      <td>18.5</td>\n",
       "      <td>2787</td>\n",
       "      <td>17.5</td>\n",
       "      <td>0.567</td>\n",
       "      <td>0.431</td>\n",
       "      <td>0.363</td>\n",
       "      <td>2.5</td>\n",
       "      <td>8.3</td>\n",
       "      <td>5.2</td>\n",
       "      <td>22.2</td>\n",
       "      <td>2.7</td>\n",
       "      <td>0.2</td>\n",
       "      <td>12.5</td>\n",
       "      <td>19.7</td>\n",
       "      <td>NaN</td>\n",
       "      <td>5.4</td>\n",
       "      <td>2.9</td>\n",
       "      <td>8.3</td>\n",
       "      <td>0.143</td>\n",
       "      <td>NaN</td>\n",
       "      <td>2.7</td>\n",
       "      <td>0.2</td>\n",
       "      <td>2.9</td>\n",
       "      <td>3.4</td>\n",
       "      <td>1989</td>\n",
       "      <td>NaN</td>\n",
       "      <td>NaN</td>\n",
       "      <td>NaN</td>\n",
       "      <td>NaN</td>\n",
       "    </tr>\n",
       "    <tr>\n",
       "      <td>3</td>\n",
       "      <td>Mark Aguirre</td>\n",
       "      <td>SF</td>\n",
       "      <td>29</td>\n",
       "      <td>TOT</td>\n",
       "      <td>80</td>\n",
       "      <td>76</td>\n",
       "      <td>32.5</td>\n",
       "      <td>7.3</td>\n",
       "      <td>15.9</td>\n",
       "      <td>0.461</td>\n",
       "      <td>0.6</td>\n",
       "      <td>2.2</td>\n",
       "      <td>0.293</td>\n",
       "      <td>6.7</td>\n",
       "      <td>13.7</td>\n",
       "      <td>0.488</td>\n",
       "      <td>0.481</td>\n",
       "      <td>3.6</td>\n",
       "      <td>4.9</td>\n",
       "      <td>0.733</td>\n",
       "      <td>1.8</td>\n",
       "      <td>3.0</td>\n",
       "      <td>4.8</td>\n",
       "      <td>3.5</td>\n",
       "      <td>0.6</td>\n",
       "      <td>0.5</td>\n",
       "      <td>2.6</td>\n",
       "      <td>2.9</td>\n",
       "      <td>18.9</td>\n",
       "      <td>2597</td>\n",
       "      <td>16.4</td>\n",
       "      <td>0.524</td>\n",
       "      <td>0.137</td>\n",
       "      <td>0.309</td>\n",
       "      <td>6.4</td>\n",
       "      <td>10.0</td>\n",
       "      <td>8.3</td>\n",
       "      <td>17.9</td>\n",
       "      <td>0.9</td>\n",
       "      <td>0.8</td>\n",
       "      <td>12.6</td>\n",
       "      <td>27.4</td>\n",
       "      <td>NaN</td>\n",
       "      <td>2.4</td>\n",
       "      <td>2.1</td>\n",
       "      <td>4.5</td>\n",
       "      <td>0.082</td>\n",
       "      <td>NaN</td>\n",
       "      <td>1.4</td>\n",
       "      <td>-1.3</td>\n",
       "      <td>0.1</td>\n",
       "      <td>1.4</td>\n",
       "      <td>1989</td>\n",
       "      <td>NaN</td>\n",
       "      <td>NaN</td>\n",
       "      <td>NaN</td>\n",
       "      <td>NaN</td>\n",
       "    </tr>\n",
       "    <tr>\n",
       "      <td>4</td>\n",
       "      <td>Mark Aguirre</td>\n",
       "      <td>SF</td>\n",
       "      <td>29</td>\n",
       "      <td>DAL</td>\n",
       "      <td>44</td>\n",
       "      <td>44</td>\n",
       "      <td>34.8</td>\n",
       "      <td>8.5</td>\n",
       "      <td>18.8</td>\n",
       "      <td>0.450</td>\n",
       "      <td>0.7</td>\n",
       "      <td>2.3</td>\n",
       "      <td>0.293</td>\n",
       "      <td>7.8</td>\n",
       "      <td>16.6</td>\n",
       "      <td>0.471</td>\n",
       "      <td>0.467</td>\n",
       "      <td>4.0</td>\n",
       "      <td>5.5</td>\n",
       "      <td>0.730</td>\n",
       "      <td>2.0</td>\n",
       "      <td>3.3</td>\n",
       "      <td>5.3</td>\n",
       "      <td>4.3</td>\n",
       "      <td>0.7</td>\n",
       "      <td>0.7</td>\n",
       "      <td>3.2</td>\n",
       "      <td>2.9</td>\n",
       "      <td>21.7</td>\n",
       "      <td>1529</td>\n",
       "      <td>17.3</td>\n",
       "      <td>0.509</td>\n",
       "      <td>0.119</td>\n",
       "      <td>0.294</td>\n",
       "      <td>6.6</td>\n",
       "      <td>10.3</td>\n",
       "      <td>8.5</td>\n",
       "      <td>21.5</td>\n",
       "      <td>0.9</td>\n",
       "      <td>1.1</td>\n",
       "      <td>13.0</td>\n",
       "      <td>30.5</td>\n",
       "      <td>NaN</td>\n",
       "      <td>0.7</td>\n",
       "      <td>1.0</td>\n",
       "      <td>1.7</td>\n",
       "      <td>0.052</td>\n",
       "      <td>NaN</td>\n",
       "      <td>1.5</td>\n",
       "      <td>-1.9</td>\n",
       "      <td>-0.4</td>\n",
       "      <td>0.6</td>\n",
       "      <td>1989</td>\n",
       "      <td>NaN</td>\n",
       "      <td>NaN</td>\n",
       "      <td>NaN</td>\n",
       "      <td>NaN</td>\n",
       "    </tr>\n",
       "  </tbody>\n",
       "</table>\n",
       "</div>"
      ],
      "text/plain": [
       "                Player Pos  Age   Tm   G  GS  MP_x   FG   FGA    FG%   3P  \\\n",
       "0  Kareem Abdul-Jabbar   C   41  LAL  74  74  22.9  4.2   8.9  0.475  0.0   \n",
       "1           Mark Acres   C   26  BOS  62   0  10.2  0.9   1.8  0.482  0.0   \n",
       "2        Michael Adams  PG   26  DEN  77  77  36.2  6.1  14.1  0.433  2.2   \n",
       "3         Mark Aguirre  SF   29  TOT  80  76  32.5  7.3  15.9  0.461  0.6   \n",
       "4         Mark Aguirre  SF   29  DAL  44  44  34.8  8.5  18.8  0.450  0.7   \n",
       "\n",
       "   3PA    3P%   2P   2PA    2P%   eFG%   FT  FTA    FT%  ORB  DRB  TRB  AST  \\\n",
       "0  0.0  0.000  4.2   8.9  0.477  0.475  1.6  2.2  0.739  1.4  3.1  4.5  1.0   \n",
       "1  0.0  1.000  0.9   1.8  0.478  0.487  0.4  0.8  0.542  1.0  1.4  2.4  0.3   \n",
       "2  6.1  0.356  3.9   8.0  0.490  0.509  4.2  5.1  0.819  0.9  2.8  3.7  6.4   \n",
       "3  2.2  0.293  6.7  13.7  0.488  0.481  3.6  4.9  0.733  1.8  3.0  4.8  3.5   \n",
       "4  2.3  0.293  7.8  16.6  0.471  0.467  4.0  5.5  0.730  2.0  3.3  5.3  4.3   \n",
       "\n",
       "   STL  BLK  TOV   PF   PTS  MP_y   PER    TS%   3PAr    FTr  ORB%  DRB%  \\\n",
       "0  0.5  1.1  1.3  2.6  10.1  1695  12.9  0.511  0.005  0.250   7.3  14.2   \n",
       "1  0.3  0.1  0.4  1.5   2.2   632   8.2  0.507  0.009  0.421  10.9  15.6   \n",
       "2  2.2  0.1  2.3  1.9  18.5  2787  17.5  0.567  0.431  0.363   2.5   8.3   \n",
       "3  0.6  0.5  2.6  2.9  18.9  2597  16.4  0.524  0.137  0.309   6.4  10.0   \n",
       "4  0.7  0.7  3.2  2.9  21.7  1529  17.3  0.509  0.119  0.294   6.6  10.3   \n",
       "\n",
       "   TRB%  AST%  STL%  BLK%  TOV%  USG%      OWS  DWS   WS  WS/48   .1  OBPM  \\\n",
       "0  11.0   6.1   1.1   2.9  11.5  20.1 NaN  0.9  2.0  2.9  0.082  NaN  -1.9   \n",
       "1  13.3   3.7   1.5   0.6  14.5  10.4 NaN  0.4  0.5  0.9  0.066  NaN  -3.0   \n",
       "2   5.2  22.2   2.7   0.2  12.5  19.7 NaN  5.4  2.9  8.3  0.143  NaN   2.7   \n",
       "3   8.3  17.9   0.9   0.8  12.6  27.4 NaN  2.4  2.1  4.5  0.082  NaN   1.4   \n",
       "4   8.5  21.5   0.9   1.1  13.0  30.5 NaN  0.7  1.0  1.7  0.052  NaN   1.5   \n",
       "\n",
       "   DBPM  BPM  VORP  Season_x Players Season_y NBA_ALL_TEAM  Season_end  \n",
       "0  -0.2 -2.1   0.0      1989     NaN      NaN          NaN         NaN  \n",
       "1  -0.4 -3.4  -0.2      1989     NaN      NaN          NaN         NaN  \n",
       "2   0.2  2.9   3.4      1989     NaN      NaN          NaN         NaN  \n",
       "3  -1.3  0.1   1.4      1989     NaN      NaN          NaN         NaN  \n",
       "4  -1.9 -0.4   0.6      1989     NaN      NaN          NaN         NaN  "
      ]
     },
     "execution_count": 3,
     "metadata": {},
     "output_type": "execute_result"
    }
   ],
   "source": [
    "nba_df.head()"
   ]
  },
  {
   "cell_type": "code",
   "execution_count": 4,
   "metadata": {},
   "outputs": [
    {
     "data": {
      "text/plain": [
       "Index(['Player', 'Pos', 'Age', 'Tm', 'G', 'GS', 'MP_x', 'FG', 'FGA', 'FG%',\n",
       "       '3P', '3PA', '3P%', '2P', '2PA', '2P%', 'eFG%', 'FT', 'FTA', 'FT%',\n",
       "       'ORB', 'DRB', 'TRB', 'AST', 'STL', 'BLK', 'TOV', 'PF', 'PTS', 'MP_y',\n",
       "       'PER', 'TS%', '3PAr', 'FTr', 'ORB%', 'DRB%', 'TRB%', 'AST%', 'STL%',\n",
       "       'BLK%', 'TOV%', 'USG%', ' ', 'OWS', 'DWS', 'WS', 'WS/48', ' .1', 'OBPM',\n",
       "       'DBPM', 'BPM', 'VORP', 'Season_x', 'Players', 'Season_y',\n",
       "       'NBA_ALL_TEAM', 'Season_end'],\n",
       "      dtype='object')"
      ]
     },
     "execution_count": 4,
     "metadata": {},
     "output_type": "execute_result"
    }
   ],
   "source": [
    "nba_df.columns"
   ]
  },
  {
   "cell_type": "code",
   "execution_count": 5,
   "metadata": {},
   "outputs": [],
   "source": [
    "nba_df = nba_df.rename(columns = {'MP_y': 'MP'})"
   ]
  },
  {
   "cell_type": "markdown",
   "metadata": {},
   "source": [
    "Exploration of amount of players that were on All nba team"
   ]
  },
  {
   "cell_type": "code",
   "execution_count": 6,
   "metadata": {},
   "outputs": [],
   "source": [
    "import seaborn as sns\n",
    "import matplotlib.pyplot as plt\n",
    "import numpy as np"
   ]
  },
  {
   "cell_type": "code",
   "execution_count": 7,
   "metadata": {},
   "outputs": [
    {
     "data": {
      "image/png": "[encoded data removed]",
      "text/plain": [
       "<Figure size 432x288 with 1 Axes>"
      ]
     },
     "metadata": {
      "needs_background": "light"
     },
     "output_type": "display_data"
    }
   ],
   "source": [
    "# Fill missing values\n",
    "nba_df['NBA_ALL_TEAM'] = nba_df['NBA_ALL_TEAM'].fillna('M')\n",
    "\n",
    "sns_plot = sns.countplot(x = 'NBA_ALL_TEAM', data = nba_df)\n",
    "plt.xlabel('ALL-NBA team')\n",
    "plt.xticks(np.arange(4), ('N/A','3rd','1st','2nd'))\n",
    "plt.title('Number of counts of players in All-NBA team')\n",
    "\n",
    "plt.show()"
   ]
  },
  {
   "cell_type": "markdown",
   "metadata": {},
   "source": [
    "Data is heavily skewed towards non-winners. As there are only 15 All-NBA receipients (first, second, third teams) per year, it makes sense."
   ]
  },
  {
   "cell_type": "markdown",
   "metadata": {},
   "source": [
    "We will do some data explorations to determine the cut off of win shares and minutes played"
   ]
  },
  {
   "cell_type": "code",
   "execution_count": 8,
   "metadata": {},
   "outputs": [
    {
     "data": {
      "text/plain": [
       "array(['M', '1st', '2nd', '3rd'], dtype=object)"
      ]
     },
     "execution_count": 8,
     "metadata": {},
     "output_type": "execute_result"
    }
   ],
   "source": [
    "nba_df['NBA_ALL_TEAM'].unique()"
   ]
  },
  {
   "cell_type": "code",
   "execution_count": 9,
   "metadata": {},
   "outputs": [],
   "source": [
    "def nba_plot(data = nba_df, column = 'WS'):\n",
    "    g = sns.FacetGrid(data = nba_df, hue = \"NBA_ALL_TEAM\", height = 10, aspect = 1.8)\n",
    "    g = g.map(sns.kdeplot, column, shade = True).add_legend()\n",
    "\n",
    "    if column == 'WS':\n",
    "        plt.xlabel('Win Shares', fontsize = 30)\n",
    "        plt.ylabel('Distribution Density', fontsize = 30)\n",
    "        plt.title('NBA players Win Shares', fontsize = 30)\n",
    "    \n",
    "    elif column == 'MP':\n",
    "        plt.xlabel('Total Minutes', fontsize = 30)\n",
    "        plt.ylabel('Distribution Density', fontsize = 30)\n",
    "        plt.title('NBA players Total Minutes Played', fontsize = 30)\n",
    "\n",
    "    g._legend.set_title(\"All-NBA Team\")\n",
    "\n",
    "    plt.xticks(fontsize = 20)\n",
    "    plt.yticks(fontsize = 20)\n",
    "\n",
    "    labels = ['Non-winner', '3rd Team', '1st Team', '2nd Team']\n",
    "    for t, l in zip(g._legend.texts, labels): t.set_text(l)\n",
    "        "
   ]
  },
  {
   "cell_type": "code",
   "execution_count": 10,
   "metadata": {},
   "outputs": [
    {
     "data": {
      "image/png": "[encoded data removed]",
      "text/plain": [
       "<Figure size 1380.88x720 with 1 Axes>"
      ]
     },
     "metadata": {
      "needs_background": "light"
     },
     "output_type": "display_data"
    }
   ],
   "source": [
    "nba_plot(column = 'WS')"
   ]
  },
  {
   "cell_type": "code",
   "execution_count": null,
   "metadata": {},
   "outputs": [],
   "source": [
    "nba_plot(column = 'MP')"
   ]
  },
  {
   "cell_type": "markdown",
   "metadata": {},
   "source": [
    "Set a cutoff:\n",
    "- Win Shares > 4.5\n",
    "- Total Minutes Played >= 1500 minutes"
   ]
  },
  {
   "cell_type": "code",
   "execution_count": null,
   "metadata": {},
   "outputs": [],
   "source": [
    "sns.countplot(x = 'NBA_ALL_TEAM', data = nba_df[nba_df['WS'] > 4.5])"
   ]
  },
  {
   "cell_type": "code",
   "execution_count": null,
   "metadata": {},
   "outputs": [],
   "source": [
    "nba_df.head(1)"
   ]
  },
  {
   "cell_type": "code",
   "execution_count": null,
   "metadata": {},
   "outputs": [],
   "source": []
  },
  {
   "cell_type": "code",
   "execution_count": null,
   "metadata": {
    "scrolled": true
   },
   "outputs": [],
   "source": [
    "nba_df.head(5)"
   ]
  },
  {
   "cell_type": "code",
   "execution_count": null,
   "metadata": {},
   "outputs": [],
   "source": [
    "nba_df[nba_df['NBA_ALL_TEAM'] == '1st']"
   ]
  },
  {
   "cell_type": "code",
   "execution_count": null,
   "metadata": {},
   "outputs": [],
   "source": [
    "# Let's first rename column names\n",
    "\n",
    "nba_df.columns"
   ]
  },
  {
   "cell_type": "code",
   "execution_count": null,
   "metadata": {},
   "outputs": [],
   "source": [
    "columns_per_game = {'MP_x' : 'MP/G',\n",
    "                    'FG' : 'FG/G',\n",
    "                    'FGA' : 'FGA/G',\n",
    "                    'FG%' : 'FG%/G',\n",
    "                    '3P' :  '3P/G',\n",
    "                    '3PA' : '3PA/G',\n",
    "                    '3P%':  '3P%/G',\n",
    "                    '2P':  '2P/G',\n",
    "                    '2PA': '2PA/G',\n",
    "                    '2P%': '2P%/G',\n",
    "                    'eFG%': 'eFG%/G',\n",
    "                    'FT' : 'FT/G', \n",
    "                    'FTA': 'FTA/G', \n",
    "                    'FT%': 'FT%/G',\n",
    "                    'ORB': 'ORB/G', \n",
    "                    'DRB': 'DRB/G', \n",
    "                    'TRB': 'TRB/G', \n",
    "                    'AST': 'AST/G', \n",
    "                    'STL': 'STL/G', \n",
    "                    'BLK': 'BLK/G', \n",
    "                    'TOV': 'TOV/G', \n",
    "                    'PF' : 'PF/G', \n",
    "                    'PTS': 'PTS/G',\n",
    "                    'Season_x': 'SEASON_END'}\n"
   ]
  },
  {
   "cell_type": "code",
   "execution_count": null,
   "metadata": {},
   "outputs": [],
   "source": [
    "nba_df = nba_df.rename(columns = columns_per_game)"
   ]
  },
  {
   "cell_type": "code",
   "execution_count": null,
   "metadata": {
    "scrolled": true
   },
   "outputs": [],
   "source": [
    "nba_df.columns"
   ]
  },
  {
   "cell_type": "code",
   "execution_count": null,
   "metadata": {},
   "outputs": [],
   "source": [
    "# Clean up the dataframe\n",
    "\n",
    "nba_df_clean = nba_df[['Player', 'Pos', 'Age', 'Tm', 'G', 'GS', 'MP/G', 'FG/G', 'FGA/G',\n",
    "       'FG%/G', '3P/G', '3PA/G', '3P%/G', '2P/G', '2PA/G', '2P%/G', 'eFG%/G',\n",
    "       'FT/G', 'FTA/G', 'FT%/G', 'ORB/G', 'DRB/G', 'TRB/G', 'AST/G', 'STL/G',\n",
    "       'BLK/G', 'TOV/G', 'PF/G', 'PTS/G', 'MP', 'PER', 'TS%', '3PAr', 'FTr',\n",
    "       'ORB%', 'DRB%', 'TRB%', 'AST%', 'STL%', 'BLK%', 'TOV%', 'USG%','OWS', 'DWS', 'WS', 'WS/48',\n",
    "       'OBPM', 'DBPM', 'BPM', 'VORP','SEASON_END','NBA_ALL_TEAM']].copy(deep = True)"
   ]
  },
  {
   "cell_type": "code",
   "execution_count": null,
   "metadata": {
    "scrolled": true
   },
   "outputs": [],
   "source": [
    "nba_df_clean.head(3)"
   ]
  },
  {
   "cell_type": "code",
   "execution_count": null,
   "metadata": {},
   "outputs": [],
   "source": [
    "df = nba_df_clean[(nba_df_clean['WS'] > 4.5) & (nba_df_clean['MP'] > 1500)].reset_index(drop = True)"
   ]
  },
  {
   "cell_type": "code",
   "execution_count": null,
   "metadata": {},
   "outputs": [],
   "source": []
  },
  {
   "cell_type": "code",
   "execution_count": null,
   "metadata": {},
   "outputs": [],
   "source": [
    "df"
   ]
  },
  {
   "cell_type": "code",
   "execution_count": null,
   "metadata": {},
   "outputs": [],
   "source": [
    "df.to_csv('..//data//df_for_model_training.csv',index = False)"
   ]
  },
  {
   "cell_type": "code",
   "execution_count": null,
   "metadata": {},
   "outputs": [],
   "source": []
  }
 ],
 "metadata": {
  "kernelspec": {
   "display_name": "Python 3",
   "language": "python",
   "name": "python3"
  },
  "language_info": {
   "codemirror_mode": {
    "name": "ipython",
    "version": 3
   },
   "file_extension": ".py",
   "mimetype": "text/x-python",
   "name": "python",
   "nbconvert_exporter": "python",
   "pygments_lexer": "ipython3",
   "version": "3.7.4"
  }
 },
 "nbformat": 4,
 "nbformat_minor": 2
}
